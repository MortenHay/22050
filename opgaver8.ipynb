{
 "cells": [
  {
   "cell_type": "code",
   "execution_count": 20,
   "metadata": {},
   "outputs": [],
   "source": [
    "from sympy import *\n",
    "init_printing()\n",
    "j = I"
   ]
  },
  {
   "cell_type": "code",
   "execution_count": 21,
   "metadata": {},
   "outputs": [
    {
     "data": {
      "text/latex": [
       "$\\displaystyle \\begin{cases} \\frac{1}{\\left(s + 1\\right)^{2}} & \\text{for}\\: \\left|{\\arg{\\left(s \\right)}}\\right| \\leq \\frac{\\pi}{2} \\\\\\int\\limits_{0}^{\\infty} t e^{- t \\left(s + 1\\right)} \\theta\\left(t\\right)\\, dt & \\text{otherwise} \\end{cases}$"
      ],
      "text/plain": [
       "⎧          1                             π\n",
       "⎪       ────────          for │arg(s)│ ≤ ─\n",
       "⎪              2                         2\n",
       "⎪       (s + 1)                           \n",
       "⎪                                         \n",
       "⎨∞                                        \n",
       "⎪⌠                                        \n",
       "⎪⎮    -t⋅(s + 1)                          \n",
       "⎪⎮ t⋅ℯ          ⋅θ(t) dt     otherwise    \n",
       "⎪⌡                                        \n",
       "⎩0                                        "
      ]
     },
     "execution_count": 21,
     "metadata": {},
     "output_type": "execute_result"
    }
   ],
   "source": [
    "def lappyboi(x,t,s):\n",
    "    return integrate(x*exp(-s*t),(t,0,oo)).simplify()\n",
    "\n",
    "t = Symbol('t', real=True)\n",
    "s = Symbol('s')\n",
    "\n",
    "lappyboi(t*exp(-t)*Heaviside(t),t,s)"
   ]
  },
  {
   "cell_type": "code",
   "execution_count": 22,
   "metadata": {},
   "outputs": [
    {
     "data": {
      "image/png": "[encoded data removed]",
      "text/latex": [
       "$\\displaystyle \\left( \\frac{1}{\\left(s + 1\\right)^{2}}, \\  -1, \\  \\text{True}\\right)$"
      ],
      "text/plain": [
       "⎛   1              ⎞\n",
       "⎜────────, -1, True⎟\n",
       "⎜       2          ⎟\n",
       "⎝(s + 1)           ⎠"
      ]
     },
     "execution_count": 22,
     "metadata": {},
     "output_type": "execute_result"
    }
   ],
   "source": [
    "laplace_transform(t*exp(-t)*Heaviside(t),t,s)"
   ]
  },
  {
   "cell_type": "code",
   "execution_count": 23,
   "metadata": {},
   "outputs": [
    {
     "data": {
      "text/latex": [
       "$\\displaystyle \\begin{cases} \\frac{\\left(e^{s} - 1\\right) e^{- s}}{s} & \\text{for}\\: \\left|{\\arg{\\left(s \\right)}}\\right| < \\frac{\\pi}{2} \\\\\\int\\limits_{0}^{\\infty} \\left(\\theta\\left(t\\right) - \\theta\\left(t - 1\\right)\\right) e^{- s t}\\, dt & \\text{otherwise} \\end{cases}$"
      ],
      "text/plain": [
       "⎧        ⎛ s    ⎞  -s                          \n",
       "⎪        ⎝ℯ  - 1⎠⋅ℯ                           π\n",
       "⎪        ────────────          for │arg(s)│ < ─\n",
       "⎪             s                               2\n",
       "⎪                                              \n",
       "⎨∞                                             \n",
       "⎪⌠                                             \n",
       "⎪⎮                    -s⋅t                     \n",
       "⎪⎮ (θ(t) - θ(t - 1))⋅ℯ     dt     otherwise    \n",
       "⎪⌡                                             \n",
       "⎩0                                             "
      ]
     },
     "metadata": {},
     "output_type": "display_data"
    },
    {
     "data": {
      "image/png": "[encoded data removed]",
      "text/latex": [
       "$\\displaystyle \\left( \\frac{1}{s} - \\frac{e^{- s}}{s}, \\  0, \\  \\text{True}\\right)$"
      ],
      "text/plain": [
       "⎛     -s         ⎞\n",
       "⎜1   ℯ           ⎟\n",
       "⎜─ - ───, 0, True⎟\n",
       "⎝s    s          ⎠"
      ]
     },
     "metadata": {},
     "output_type": "display_data"
    }
   ],
   "source": [
    "display(lappyboi(Heaviside(t)-Heaviside(t-1),t,s))\n",
    "display(laplace_transform(Heaviside(t)-Heaviside(t-1),t,s))"
   ]
  },
  {
   "cell_type": "code",
   "execution_count": 37,
   "metadata": {},
   "outputs": [
    {
     "data": {
      "text/latex": [
       "$\\displaystyle \\begin{cases} \\frac{- \\omega_{0}^{2} + s^{2}}{\\left(\\omega_{0}^{2} + s^{2}\\right)^{2}} & \\text{for}\\: \\left|{\\arg{\\left(\\omega_{0} \\right)}}\\right| = 0 \\wedge \\left|{\\arg{\\left(s \\right)}}\\right| < \\frac{\\pi}{2} \\\\\\int\\limits_{0}^{\\infty} t e^{- s t} \\cos{\\left(\\omega_{0} t \\right)} \\theta\\left(t\\right)\\, dt & \\text{otherwise} \\end{cases}$"
      ],
      "text/plain": [
       "⎧             2    2                                          \n",
       "⎪         - ω₀  + s                                          π\n",
       "⎪        ───────────          for │arg(ω₀)│ = 0 ∧ │arg(s)│ < ─\n",
       "⎪                  2                                         2\n",
       "⎪        ⎛  2    2⎞                                           \n",
       "⎪        ⎝ω₀  + s ⎠                                           \n",
       "⎨                                                             \n",
       "⎪∞                                                            \n",
       "⎪⌠                                                            \n",
       "⎪⎮    -s⋅t                                                    \n",
       "⎪⎮ t⋅ℯ    ⋅cos(ω₀⋅t)⋅θ(t) dt             otherwise            \n",
       "⎪⌡                                                            \n",
       "⎩0                                                            "
      ]
     },
     "metadata": {},
     "output_type": "display_data"
    },
    {
     "data": {
      "image/png": "[encoded data removed]",
      "text/latex": [
       "$\\displaystyle \\left( \\frac{1}{2 \\left(i \\omega_{0} + s\\right)^{2}} + \\frac{1}{2 \\left(- i \\omega_{0} + s\\right)^{2}}, \\  0, \\  \\text{True}\\right)$"
      ],
      "text/plain": [
       "⎛      1               1                ⎞\n",
       "⎜───────────── + ──────────────, 0, True⎟\n",
       "⎜            2                2         ⎟\n",
       "⎝2⋅(ⅈ⋅ω₀ + s)    2⋅(-ⅈ⋅ω₀ + s)          ⎠"
      ]
     },
     "metadata": {},
     "output_type": "display_data"
    },
    {
     "data": {
      "image/png": "[encoded data removed]",
      "text/latex": [
       "$\\displaystyle \\frac{1}{2 \\left(i \\omega_{0} + s\\right)^{2}} + \\frac{1}{2 \\left(- i \\omega_{0} + s\\right)^{2}}$"
      ],
      "text/plain": [
       "      1               1       \n",
       "───────────── + ──────────────\n",
       "            2                2\n",
       "2⋅(ⅈ⋅ω₀ + s)    2⋅(-ⅈ⋅ω₀ + s) "
      ]
     },
     "metadata": {},
     "output_type": "display_data"
    }
   ],
   "source": [
    "w0 = Symbol('omega_0', real=True)\n",
    "x = t*cos(w0*t)*Heaviside(t)\n",
    "display(lappyboi(x,t,s))\n",
    "display(laplace_transform(x,t,s))\n",
    "display(laplace_transform(x,t,s,noconds=True).powsimp())"
   ]
  },
  {
   "cell_type": "code",
   "execution_count": 27,
   "metadata": {},
   "outputs": [
    {
     "data": {
      "text/latex": [
       "$\\displaystyle \\begin{cases} \\frac{1}{\\left(i \\omega_{0} - s\\right)^{2}} & \\text{for}\\: \\left(\\left|{\\arg{\\left(s \\right)}}\\right| \\leq \\frac{\\pi}{2} \\wedge \\left|{\\arg{\\left(\\omega_{0} \\right)} - \\frac{\\pi}{2}}\\right| < \\frac{\\pi}{2}\\right) \\vee \\left(\\left|{\\arg{\\left(\\omega_{0} \\right)} - \\frac{\\pi}{2}}\\right| \\leq \\frac{\\pi}{2} \\wedge \\left|{\\arg{\\left(s \\right)}}\\right| < \\frac{\\pi}{2}\\right) \\vee \\left(\\left|{\\arg{\\left(\\omega_{0} \\right)} - \\frac{\\pi}{2}}\\right| < \\frac{\\pi}{2} \\wedge \\left|{\\arg{\\left(s \\right)}}\\right| < \\frac{\\pi}{2}\\right) \\\\\\int\\limits_{0}^{\\infty} t e^{t \\left(i \\omega_{0} - s\\right)} \\theta\\left(t\\right)\\, dt & \\text{otherwise} \\end{cases}$"
      ],
      "text/plain": [
       "⎧            1                  ⎛           π   │          π│   π⎞   ⎛│       \n",
       "⎪       ───────────         for ⎜│arg(s)│ ≤ ─ ∧ │arg(ω₀) - ─│ < ─⎟ ∨ ⎜│arg(ω₀)\n",
       "⎪                 2             ⎝           2   │          2│   2⎠   ⎝│       \n",
       "⎪       (ⅈ⋅ω₀ - s)                                                            \n",
       "⎪                                                                             \n",
       "⎨∞                                                                            \n",
       "⎪⌠                                                                            \n",
       "⎪⎮    t⋅(ⅈ⋅ω₀ - s)                                                            \n",
       "⎪⎮ t⋅ℯ            ⋅θ(t) dt                                                    \n",
       "⎪⌡                                                                            \n",
       "⎩0                                                                            \n",
       "\n",
       "   π│   π              π⎞   ⎛│          π│   π              π⎞\n",
       " - ─│ ≤ ─ ∧ │arg(s)│ < ─⎟ ∨ ⎜│arg(ω₀) - ─│ < ─ ∧ │arg(s)│ < ─⎟\n",
       "   2│   2              2⎠   ⎝│          2│   2              2⎠\n",
       "                                                              \n",
       "                                                              \n",
       "                                                              \n",
       "                                                              \n",
       "                                                              \n",
       " otherwise                                                    \n",
       "                                                              \n",
       "                                                              "
      ]
     },
     "metadata": {},
     "output_type": "display_data"
    },
    {
     "data": {
      "image/png": "[encoded data removed]",
      "text/latex": [
       "$\\displaystyle \\left( \\frac{1}{\\left(- i \\omega_{0} + s\\right)^{2}}, \\  0, \\  \\text{True}\\right)$"
      ],
      "text/plain": [
       "⎛     1               ⎞\n",
       "⎜────────────, 0, True⎟\n",
       "⎜           2         ⎟\n",
       "⎝(-ⅈ⋅ω₀ + s)          ⎠"
      ]
     },
     "metadata": {},
     "output_type": "display_data"
    },
    {
     "data": {
      "image/png": "[encoded data removed]",
      "text/latex": [
       "$\\displaystyle \\frac{- \\left(\\omega_{0} - \\operatorname{im}{\\left(s\\right)}\\right)^{2} + \\left(\\operatorname{re}{\\left(s\\right)}\\right)^{2}}{\\left(\\left(\\omega_{0} - \\operatorname{im}{\\left(s\\right)}\\right)^{2} + \\left(\\operatorname{re}{\\left(s\\right)}\\right)^{2}\\right)^{2}}$"
      ],
      "text/plain": [
       "               2     2   \n",
       " - (ω₀ - im(s))  + re (s)\n",
       "─────────────────────────\n",
       "                        2\n",
       "⎛            2     2   ⎞ \n",
       "⎝(ω₀ - im(s))  + re (s)⎠ "
      ]
     },
     "metadata": {},
     "output_type": "display_data"
    }
   ],
   "source": [
    "w0 = Symbol('omega_0', real=True)\n",
    "x = t*exp(j*w0*t)*Heaviside(t)\n",
    "display(lappyboi(x,t,s))\n",
    "display(laplace_transform(x,t,s))\n",
    "display(re(laplace_transform(x,t,s,noconds=True)).simplify())"
   ]
  },
  {
   "cell_type": "code",
   "execution_count": 38,
   "metadata": {},
   "outputs": [
    {
     "data": {
      "text/latex": [
       "$\\displaystyle \\begin{cases} \\frac{5 - s}{\\left(s - 2\\right) \\left(s + 1\\right)} & \\text{for}\\: \\left|{s}\\right| > 2 \\wedge \\left|{\\arg{\\left(s \\right)}}\\right| < \\frac{\\pi}{2} \\\\\\int\\limits_{0}^{\\infty} \\left(e^{3 t} - 2\\right) e^{- t \\left(s + 1\\right)} \\theta\\left(t\\right)\\, dt & \\text{otherwise} \\end{cases}$"
      ],
      "text/plain": [
       "⎧             5 - s                                         π\n",
       "⎪        ───────────────           for │s│ > 2 ∧ │arg(s)│ < ─\n",
       "⎪        (s - 2)⋅(s + 1)                                    2\n",
       "⎪                                                            \n",
       "⎪∞                                                           \n",
       "⎨⌠                                                           \n",
       "⎪⎮ ⎛ 3⋅t    ⎞  -t⋅(s + 1)                                    \n",
       "⎪⎮ ⎝ℯ    - 2⎠⋅ℯ          ⋅θ(t) dt          otherwise         \n",
       "⎪⌡                                                           \n",
       "⎪0                                                           \n",
       "⎩                                                            "
      ]
     },
     "metadata": {},
     "output_type": "display_data"
    },
    {
     "data": {
      "image/png": "[encoded data removed]",
      "text/latex": [
       "$\\displaystyle \\left( - \\frac{2}{s + 1} + \\frac{1}{s - 2}, \\  2, \\  \\text{True}\\right)$"
      ],
      "text/plain": [
       "⎛    2       1           ⎞\n",
       "⎜- ───── + ─────, 2, True⎟\n",
       "⎝  s + 1   s - 2         ⎠"
      ]
     },
     "metadata": {},
     "output_type": "display_data"
    },
    {
     "data": {
      "image/png": "[encoded data removed]",
      "text/latex": [
       "$\\displaystyle \\frac{5 - s}{\\left(s - 2\\right) \\left(s + 1\\right)}$"
      ],
      "text/plain": [
       "     5 - s     \n",
       "───────────────\n",
       "(s - 2)⋅(s + 1)"
      ]
     },
     "metadata": {},
     "output_type": "display_data"
    }
   ],
   "source": [
    "w0 = Symbol('omega_0', real=True)\n",
    "x = (exp(2*t)-2*exp(-t))*Heaviside(t)\n",
    "display(lappyboi(x,t,s))\n",
    "display(laplace_transform(x,t,s))\n",
    "display(laplace_transform(x,t,s,noconds=True).simplify())"
   ]
  },
  {
   "cell_type": "code",
   "execution_count": 41,
   "metadata": {},
   "outputs": [
    {
     "data": {
      "image/png": "[encoded data removed]",
      "text/latex": [
       "$\\displaystyle \\left(e^{- 2 t} + e^{- 3 t}\\right) \\theta\\left(t\\right)$"
      ],
      "text/plain": [
       "⎛ -2⋅t    -3⋅t⎞     \n",
       "⎝ℯ     + ℯ    ⎠⋅θ(t)"
      ]
     },
     "execution_count": 41,
     "metadata": {},
     "output_type": "execute_result"
    }
   ],
   "source": [
    "x = (2*s+5)/(s**2+5*s+6)\n",
    "inverse_laplace_transform(x,s,t).collect(Heaviside(t))"
   ]
  },
  {
   "cell_type": "code",
   "execution_count": 42,
   "metadata": {},
   "outputs": [
    {
     "data": {
      "image/png": "[encoded data removed]",
      "text/latex": [
       "$\\displaystyle \\left(- \\frac{e^{- 2 t} \\sin{\\left(3 t \\right)}}{3} + 3 e^{- 2 t} \\cos{\\left(3 t \\right)}\\right) \\theta\\left(t\\right)$"
      ],
      "text/plain": [
       "⎛   -2⋅t                            ⎞     \n",
       "⎜  ℯ    ⋅sin(3⋅t)      -2⋅t         ⎟     \n",
       "⎜- ────────────── + 3⋅ℯ    ⋅cos(3⋅t)⎟⋅θ(t)\n",
       "⎝        3                          ⎠     "
      ]
     },
     "execution_count": 42,
     "metadata": {},
     "output_type": "execute_result"
    }
   ],
   "source": [
    "x = (3*s+5)/(s**2+4*s+13)\n",
    "inverse_laplace_transform(x,s,t).collect(Heaviside(t))"
   ]
  },
  {
   "cell_type": "code",
   "execution_count": 43,
   "metadata": {},
   "outputs": [
    {
     "data": {
      "image/png": "[encoded data removed]",
      "text/latex": [
       "$\\displaystyle \\left(\\frac{16 e^{3 t}}{5} - \\frac{e^{- 2 t}}{5}\\right) \\theta\\left(t\\right) + \\delta\\left(t\\right)$"
      ],
      "text/plain": [
       "⎛    3⋅t    -2⋅t⎞            \n",
       "⎜16⋅ℯ      ℯ    ⎟            \n",
       "⎜─────── - ─────⎟⋅θ(t) + δ(t)\n",
       "⎝   5        5  ⎠            "
      ]
     },
     "execution_count": 43,
     "metadata": {},
     "output_type": "execute_result"
    }
   ],
   "source": [
    "x = (s+1)**2/(s**2-s-6)\n",
    "inverse_laplace_transform(x,s,t).collect(Heaviside(t))"
   ]
  },
  {
   "cell_type": "code",
   "execution_count": 46,
   "metadata": {},
   "outputs": [
    {
     "data": {
      "image/png": "[encoded data removed]",
      "text/latex": [
       "$\\displaystyle \\left(\\frac{5 t}{2} - \\frac{5}{4} + \\frac{5 e^{- 2 t}}{4}\\right) \\theta\\left(t\\right)$"
      ],
      "text/plain": [
       "⎛             -2⋅t⎞     \n",
       "⎜5⋅t   5   5⋅ℯ    ⎟     \n",
       "⎜─── - ─ + ───────⎟⋅θ(t)\n",
       "⎝ 2    4      4   ⎠     "
      ]
     },
     "execution_count": 46,
     "metadata": {},
     "output_type": "execute_result"
    }
   ],
   "source": [
    "x = S(5)/(s**2*(s+2))\n",
    "inverse_laplace_transform(x,s,t).collect(Heaviside(t))"
   ]
  },
  {
   "cell_type": "code",
   "execution_count": 48,
   "metadata": {},
   "outputs": [
    {
     "data": {
      "image/png": "[encoded data removed]",
      "text/latex": [
       "$\\displaystyle \\left(2 \\sin{\\left(t \\right)} + \\cos{\\left(t \\right)} - 1\\right) e^{- t} \\theta\\left(t\\right)$"
      ],
      "text/plain": [
       "                         -t     \n",
       "(2⋅sin(t) + cos(t) - 1)⋅ℯ  ⋅θ(t)"
      ]
     },
     "execution_count": 48,
     "metadata": {},
     "output_type": "execute_result"
    }
   ],
   "source": [
    "x = (2*s+1)/((s+1)*(s**2+2*s+2))\n",
    "inverse_laplace_transform(x,s,t).collect(exp(-t)).collect(Heaviside(t))"
   ]
  }
 ],
 "metadata": {
  "kernelspec": {
   "display_name": ".venv",
   "language": "python",
   "name": "python3"
  },
  "language_info": {
   "codemirror_mode": {
    "name": "ipython",
    "version": 3
   },
   "file_extension": ".py",
   "mimetype": "text/x-python",
   "name": "python",
   "nbconvert_exporter": "python",
   "pygments_lexer": "ipython3",
   "version": "3.10.12"
  }
 },
 "nbformat": 4,
 "nbformat_minor": 2
}
