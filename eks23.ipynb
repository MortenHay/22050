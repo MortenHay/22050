{
 "cells": [
  {
   "cell_type": "code",
   "execution_count": 51,
   "metadata": {},
   "outputs": [],
   "source": [
    "from sympy import *\n",
    "import toolkit as tk\n",
    "init_printing()"
   ]
  },
  {
   "cell_type": "code",
   "execution_count": 52,
   "metadata": {},
   "outputs": [
    {
     "data": {
      "image/png": "[encoded data removed]",
      "text/latex": [
       "$\\displaystyle - 29.2705098312486 e^{- 3.61803398874989 t} + 4.27050983124844 e^{- 1.38196601125011 t}$"
      ],
      "text/plain": [
       "                    -3.61803398874989⋅t                     -1.38196601125011⋅\n",
       "- 29.2705098312486⋅ℯ                    + 4.27050983124844⋅ℯ                  \n",
       "\n",
       "t\n",
       " "
      ]
     },
     "execution_count": 52,
     "metadata": {},
     "output_type": "execute_result"
    }
   ],
   "source": [
    "t = Symbol('t',real=True)\n",
    "s = Symbol('s')\n",
    "Q = s**2+5*s+5\n",
    "P = 5*s**2\n",
    "lam = solve(Q)\n",
    "c1,c2 = symbols('c_1 c_2')\n",
    "yn = c1*exp(lam[0].evalf()*t)+c2*exp(lam[1].evalf()*t)\n",
    "eq1 = Eq(yn.subs(t,0),0)\n",
    "eq2 = Eq(yn.diff(t).subs(t,0),1)\n",
    "sol=solve([eq1,eq2],(c1,c2))\n",
    "h = (P*yn.subs(sol))\n",
    "tk.sDiff(h)"
   ]
  },
  {
   "cell_type": "code",
   "execution_count": 46,
   "metadata": {},
   "outputs": [
    {
     "data": {
      "image/png": "[encoded data removed]",
      "text/latex": [
       "$\\displaystyle 2$"
      ],
      "text/plain": [
       "2"
      ]
     },
     "execution_count": 46,
     "metadata": {},
     "output_type": "execute_result"
    }
   ],
   "source": [
    "degree(h,s)"
   ]
  },
  {
   "cell_type": "code",
   "execution_count": 29,
   "metadata": {},
   "outputs": [
    {
     "data": {
      "image/png": "[encoded data removed]",
      "text/latex": [
       "$\\displaystyle - 25 \\left(- \\frac{3 \\sqrt{5} e^{- \\frac{5 t}{2}} \\sinh{\\left(\\frac{\\sqrt{5} t}{2} \\right)}}{5} + e^{- \\frac{5 t}{2}} \\cosh{\\left(\\frac{\\sqrt{5} t}{2} \\right)}\\right) \\theta\\left(t\\right) + 5 \\delta\\left(t\\right)$"
      ],
      "text/plain": [
       "     ⎛        -5⋅t                                ⎞              \n",
       "     ⎜        ─────                               ⎟              \n",
       "     ⎜          2       ⎛√5⋅t⎞    -5⋅t            ⎟              \n",
       "     ⎜  3⋅√5⋅ℯ     ⋅sinh⎜────⎟    ─────           ⎟              \n",
       "     ⎜                  ⎝ 2  ⎠      2       ⎛√5⋅t⎞⎟              \n",
       "- 25⋅⎜- ────────────────────── + ℯ     ⋅cosh⎜────⎟⎟⋅θ(t) + 5⋅δ(t)\n",
       "     ⎝            5                         ⎝ 2  ⎠⎠              "
      ]
     },
     "execution_count": 29,
     "metadata": {},
     "output_type": "execute_result"
    }
   ],
   "source": [
    "inverse_laplace_transform(apart(P/Q,s),s,t)"
   ]
  },
  {
   "cell_type": "code",
   "execution_count": 58,
   "metadata": {},
   "outputs": [
    {
     "data": {
      "image/png": "[encoded data removed]",
      "text/latex": [
       "$\\displaystyle \\left(3 t - 12 + 12 e^{- \\frac{t}{4}}\\right) \\theta\\left(t\\right)$"
      ],
      "text/plain": [
       "⎛               -t ⎞     \n",
       "⎜               ───⎟     \n",
       "⎜                4 ⎟     \n",
       "⎝3⋅t - 12 + 12⋅ℯ   ⎠⋅θ(t)"
      ]
     },
     "execution_count": 58,
     "metadata": {},
     "output_type": "execute_result"
    }
   ],
   "source": [
    "ys = (3-3*exp(-t/4))*Heaviside(t)\n",
    "inverse_laplace_transform(laplace_transform(ys,t,s)[0]/s,s,t).collect(Heaviside(t))"
   ]
  },
  {
   "cell_type": "code",
   "execution_count": 66,
   "metadata": {},
   "outputs": [
    {
     "data": {
      "image/png": "[encoded data removed]",
      "text/latex": [
       "$\\displaystyle \\left(3 t - 12 + 12 e^{- \\frac{t}{4}}\\right) \\theta\\left(t\\right)$"
      ],
      "text/plain": [
       "⎛               -t ⎞     \n",
       "⎜               ───⎟     \n",
       "⎜                4 ⎟     \n",
       "⎝3⋅t - 12 + 12⋅ℯ   ⎠⋅θ(t)"
      ]
     },
     "execution_count": 66,
     "metadata": {},
     "output_type": "execute_result"
    }
   ],
   "source": [
    "tau = Symbol('tau')\n",
    "integrate(ys.subs(t,tau),(tau,0,t))"
   ]
  },
  {
   "cell_type": "code",
   "execution_count": 69,
   "metadata": {},
   "outputs": [
    {
     "data": {
      "image/png": "[encoded data removed]",
      "text/latex": [
       "$\\displaystyle \\left(\\left(- \\frac{3 \\sin{\\left(4 t \\right)}}{100} - \\frac{\\cos{\\left(4 t \\right)}}{25}\\right) e^{- 3 t} + \\frac{1}{25}\\right) \\theta\\left(t\\right)$"
      ],
      "text/plain": [
       "⎛⎛  3⋅sin(4⋅t)   cos(4⋅t)⎞  -3⋅t   1 ⎞     \n",
       "⎜⎜- ────────── - ────────⎟⋅ℯ     + ──⎟⋅θ(t)\n",
       "⎝⎝     100          25   ⎠         25⎠     "
      ]
     },
     "execution_count": 69,
     "metadata": {},
     "output_type": "execute_result"
    }
   ],
   "source": [
    "H=1/(s**2+6*s+25)\n",
    "inverse_laplace_transform(H/s,s,t).collect(exp(-3*t)).collect(Heaviside(t))"
   ]
  },
  {
   "cell_type": "code",
   "execution_count": 80,
   "metadata": {},
   "outputs": [
    {
     "data": {
      "image/png": "[encoded data removed]",
      "text/latex": [
       "$\\displaystyle \\left(3 - 9 t\\right) e^{- 3 t}$"
      ],
      "text/plain": [
       "           -3⋅t\n",
       "(3 - 9⋅t)⋅ℯ    "
      ]
     },
     "execution_count": 80,
     "metadata": {},
     "output_type": "execute_result"
    }
   ],
   "source": [
    "Q = s**2+6*s+9\n",
    "P = 3*s\n",
    "lam = solve(Q,s)\n",
    "c1,c2 = symbols('c_1 c_2')\n",
    "lam\n",
    "yn = c1*exp(lam[0]*t)+c2*t*exp(lam[0]*t)\n",
    "eq1 = Eq(yn.subs(t,0),0)\n",
    "eq2 = Eq(yn.diff(t).subs(t,0),1)\n",
    "sol=solve([eq1,eq2],(c1,c2))\n",
    "h = tk.sDiff(P*yn.subs(sol))\n",
    "h.collect(exp(-3*t))"
   ]
  }
 ],
 "metadata": {
  "kernelspec": {
   "display_name": ".venv",
   "language": "python",
   "name": "python3"
  },
  "language_info": {
   "codemirror_mode": {
    "name": "ipython",
    "version": 3
   },
   "file_extension": ".py",
   "mimetype": "text/x-python",
   "name": "python",
   "nbconvert_exporter": "python",
   "pygments_lexer": "ipython3",
   "version": "3.10.12"
  }
 },
 "nbformat": 4,
 "nbformat_minor": 2
}
