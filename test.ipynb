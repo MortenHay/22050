{
 "cells": [
  {
   "cell_type": "code",
   "execution_count": 1,
   "metadata": {},
   "outputs": [],
   "source": [
    "from sympy import *\n",
    "import numpy as np\n",
    "import matplotlib.pyplot as plt\n",
    "import pandas as pd\n",
    "import toolkit as tk\n",
    "init_printing()\n",
    "j = I"
   ]
  },
  {
   "cell_type": "code",
   "execution_count": 2,
   "metadata": {},
   "outputs": [],
   "source": [
    "t,w = symbols('t w', real=True)\n",
    "s = Symbol('s')"
   ]
  },
  {
   "cell_type": "code",
   "execution_count": 12,
   "metadata": {},
   "outputs": [],
   "source": [
    "def laplaceI(ode, y=\"y\", t=\"t\", s=\"s\"):\n",
    "    y = Function(y)\n",
    "    t = Symbol(t, real=True)\n",
    "    s = Symbol(s)\n",
    "    res = 0\n",
    "    ord = ode_order(ode, y)\n",
    "    for i in range(ord + 1):\n",
    "        term = 0\n",
    "        k = ode.coeff(y(t).diff(t, i))\n",
    "        for j in range(i):\n",
    "            term += y(t).diff(t, j).subs(t, 0) * s ** (i - 1 - j)\n",
    "        display((k,term))\n",
    "        res += k * term\n",
    "    return res"
   ]
  },
  {
   "cell_type": "code",
   "execution_count": 13,
   "metadata": {},
   "outputs": [],
   "source": [
    "x,y = symbols('x y', cls=Function)\n",
    "ode = diff(y(t),t,2) + 4 * diff(y(t),t) + 13 * y(t)\n",
    "ics = {diff(y(t),t).subs(y,0):3,y(0):2}"
   ]
  },
  {
   "cell_type": "code",
   "execution_count": 15,
   "metadata": {},
   "outputs": [
    {
     "data": {
      "image/png": "[encoded data removed]",
      "text/latex": [
       "$\\displaystyle \\left( 13, \\  0\\right)$"
      ],
      "text/plain": [
       "(13, 0)"
      ]
     },
     "metadata": {},
     "output_type": "display_data"
    },
    {
     "data": {
      "image/png": "[encoded data removed]",
      "text/latex": [
       "$\\displaystyle \\left( 4, \\  y{\\left(0 \\right)}\\right)$"
      ],
      "text/plain": [
       "(4, y(0))"
      ]
     },
     "metadata": {},
     "output_type": "display_data"
    },
    {
     "data": {
      "image/png": "[encoded data removed]",
      "text/latex": [
       "$\\displaystyle \\left( 1, \\  s y{\\left(0 \\right)} + \\left. \\frac{d}{d t} y{\\left(t \\right)} \\right|_{\\substack{ t=0 }}\\right)$"
      ],
      "text/plain": [
       "⎛            ⎛d       ⎞│   ⎞\n",
       "⎜1, s⋅y(0) + ⎜──(y(t))⎟│   ⎟\n",
       "⎝            ⎝dt      ⎠│t=0⎠"
      ]
     },
     "metadata": {},
     "output_type": "display_data"
    },
    {
     "data": {
      "image/png": "[encoded data removed]",
      "text/latex": [
       "$\\displaystyle s y{\\left(0 \\right)} + 4 y{\\left(0 \\right)} + \\left. \\frac{d}{d t} y{\\left(t \\right)} \\right|_{\\substack{ t=0 }}$"
      ],
      "text/plain": [
       "                  ⎛d       ⎞│   \n",
       "s⋅y(0) + 4⋅y(0) + ⎜──(y(t))⎟│   \n",
       "                  ⎝dt      ⎠│t=0"
      ]
     },
     "metadata": {},
     "output_type": "display_data"
    },
    {
     "data": {
      "image/png": "[encoded data removed]",
      "text/latex": [
       "$\\displaystyle 2 s + \\left. 3 \\right|_{\\substack{ t=0 }} + 8$"
      ],
      "text/plain": [
       "2⋅s + (3)│    + 8\n",
       "         │t=0    "
      ]
     },
     "metadata": {},
     "output_type": "display_data"
    }
   ],
   "source": [
    "foo = laplaceI(ode)\n",
    "display(foo,foo.subs(ics))"
   ]
  },
  {
   "cell_type": "code",
   "execution_count": 14,
   "metadata": {},
   "outputs": [
    {
     "data": {
      "image/png": "[encoded data removed]",
      "text/latex": [
       "$\\displaystyle \\frac{2 s + 10}{s^{2} + 4 s + 9}$"
      ],
      "text/plain": [
       "  2⋅s + 10  \n",
       "────────────\n",
       " 2          \n",
       "s  + 4⋅s + 9"
      ]
     },
     "execution_count": 14,
     "metadata": {},
     "output_type": "execute_result"
    }
   ],
   "source": [
    "x,y = symbols('x y', cls=Function)\n",
    "ode = Eq(y(t).diff(t,2) + 4*y(t).diff(t) + 9*y(t), x(t))\n",
    "lap_with_ic(ode,ic={y(0):2, y(t).diff(t).subs(t,0):2}, tf_out=0)"
   ]
  }
 ],
 "metadata": {
  "kernelspec": {
   "display_name": ".venv",
   "language": "python",
   "name": "python3"
  },
  "language_info": {
   "codemirror_mode": {
    "name": "ipython",
    "version": 3
   },
   "file_extension": ".py",
   "mimetype": "text/x-python",
   "name": "python",
   "nbconvert_exporter": "python",
   "pygments_lexer": "ipython3",
   "version": "3.10.12"
  }
 },
 "nbformat": 4,
 "nbformat_minor": 2
}
